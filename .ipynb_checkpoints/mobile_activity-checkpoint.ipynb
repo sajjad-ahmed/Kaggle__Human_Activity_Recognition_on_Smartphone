{
 "cells": [
  {
   "cell_type": "markdown",
   "metadata": {
    "colab_type": "text",
    "id": "PFw5WThQOcK6"
   },
   "source": [
    "# Import Stuff"
   ]
  },
  {
   "cell_type": "code",
   "execution_count": 1,
   "metadata": {
    "colab": {
     "autoexec": {
      "startup": false,
      "wait_interval": 0
     },
     "base_uri": "https://localhost:8080/",
     "height": 34
    },
    "colab_type": "code",
    "executionInfo": {
     "elapsed": 2831,
     "status": "ok",
     "timestamp": 1530713974755,
     "user": {
      "displayName": "Sajjad Ahmed",
      "photoUrl": "//lh5.googleusercontent.com/-MPc9R3ISk2A/AAAAAAAAAAI/AAAAAAAAAxI/bbZwN51vStE/s50-c-k-no/photo.jpg",
      "userId": "101056805632633697478"
     },
     "user_tz": -360
    },
    "id": "4pJxHnUcOWBo",
    "outputId": "7573f2db-c431-4c06-916f-fc78f221a525"
   },
   "outputs": [
    {
     "name": "stderr",
     "output_type": "stream",
     "text": [
      "Using TensorFlow backend.\n"
     ]
    }
   ],
   "source": [
    "import tensorflow as tf\n",
    "import pandas as pd\n",
    "import numpy as np\n",
    "from sklearn.model_selection import train_test_split\n",
    "from sklearn.metrics import accuracy_score\n",
    "from skl"
   ]
  },
  {
   "cell_type": "markdown",
   "metadata": {
    "colab_type": "text",
    "id": "JYsDNCaCQZbB"
   },
   "source": [
    "# Convert Train and Test to PD DATAFRAME"
   ]
  },
  {
   "cell_type": "code",
   "execution_count": 1,
   "metadata": {
    "colab": {
     "autoexec": {
      "startup": false,
      "wait_interval": 0
     },
     "base_uri": "https://localhost:8080/",
     "height": 51
    },
    "colab_type": "code",
    "executionInfo": {
     "elapsed": 1225,
     "status": "ok",
     "timestamp": 1530714048101,
     "user": {
      "displayName": "Sajjad Ahmed",
      "photoUrl": "//lh5.googleusercontent.com/-MPc9R3ISk2A/AAAAAAAAAAI/AAAAAAAAAxI/bbZwN51vStE/s50-c-k-no/photo.jpg",
      "userId": "101056805632633697478"
     },
     "user_tz": -360
    },
    "id": "y6p1qh0eOvvC",
    "outputId": "4300fbb7-53a6-4186-a1b0-ef9bd18af0a5"
   },
   "outputs": [
    {
     "ename": "NameError",
     "evalue": "name 'pd' is not defined",
     "output_type": "error",
     "traceback": [
      "\u001b[1;31m---------------------------------------------------------------------------\u001b[0m",
      "\u001b[1;31mNameError\u001b[0m                                 Traceback (most recent call last)",
      "\u001b[1;32m<ipython-input-1-64c835fd5657>\u001b[0m in \u001b[0;36m<module>\u001b[1;34m()\u001b[0m\n\u001b[1;32m----> 1\u001b[1;33m \u001b[0mdf_train\u001b[0m \u001b[1;33m=\u001b[0m \u001b[0mpd\u001b[0m\u001b[1;33m.\u001b[0m\u001b[0mread_csv\u001b[0m\u001b[1;33m(\u001b[0m\u001b[1;34m'train.csv'\u001b[0m\u001b[1;33m)\u001b[0m\u001b[1;33m\u001b[0m\u001b[0m\n\u001b[0m\u001b[0;32m      2\u001b[0m \u001b[0mdf_test\u001b[0m \u001b[1;33m=\u001b[0m \u001b[0mpd\u001b[0m\u001b[1;33m.\u001b[0m\u001b[0mread_csv\u001b[0m\u001b[1;33m(\u001b[0m\u001b[1;34m'test.csv'\u001b[0m\u001b[1;33m)\u001b[0m\u001b[1;33m\u001b[0m\u001b[0m\n\u001b[0;32m      3\u001b[0m \u001b[1;33m\u001b[0m\u001b[0m\n\u001b[0;32m      4\u001b[0m \u001b[0mprint\u001b[0m\u001b[1;33m(\u001b[0m\u001b[0mdf_train\u001b[0m\u001b[1;33m.\u001b[0m\u001b[0mshape\u001b[0m\u001b[1;33m)\u001b[0m\u001b[1;33m\u001b[0m\u001b[0m\n\u001b[0;32m      5\u001b[0m \u001b[0mprint\u001b[0m\u001b[1;33m(\u001b[0m\u001b[0mdf_test\u001b[0m\u001b[1;33m.\u001b[0m\u001b[0mshape\u001b[0m\u001b[1;33m)\u001b[0m\u001b[1;33m\u001b[0m\u001b[0m\n",
      "\u001b[1;31mNameError\u001b[0m: name 'pd' is not defined"
     ]
    }
   ],
   "source": [
    "df_train = pd.read_csv('train.csv')\n",
    "df_test = pd.read_csv('test.csv')\n",
    "\n",
    "print(df_train.shape)\n",
    "print(df_test.shape)"
   ]
  },
  {
   "cell_type": "code",
   "execution_count": 0,
   "metadata": {
    "colab": {
     "autoexec": {
      "startup": false,
      "wait_interval": 0
     }
    },
    "colab_type": "code",
    "id": "RuPSt-TTQ6fd"
   },
   "outputs": [],
   "source": [
    "x_train=df_train.drop('activity',axis=1)\n",
    "y_train=df_train['activity']"
   ]
  },
  {
   "cell_type": "markdown",
   "metadata": {
    "colab_type": "text",
    "id": "5Yx_HHLxQ-2v"
   },
   "source": []
  },
  {
   "cell_type": "code",
   "execution_count": 0,
   "metadata": {
    "colab": {
     "autoexec": {
      "startup": false,
      "wait_interval": 0
     }
    },
    "colab_type": "code",
    "id": "XjNldGeLs7yi"
   },
   "outputs": [],
   "source": [
    "x_train,x_test, y_train, y_test=train_test_split(x_train,y_train,test_size=.2)\n"
   ]
  },
  {
   "cell_type": "code",
   "execution_count": 29,
   "metadata": {
    "colab": {
     "autoexec": {
      "startup": false,
      "wait_interval": 0
     },
     "base_uri": "https://localhost:8080/",
     "height": 85
    },
    "colab_type": "code",
    "executionInfo": {
     "elapsed": 1059,
     "status": "ok",
     "timestamp": 1530715040310,
     "user": {
      "displayName": "Sajjad Ahmed",
      "photoUrl": "//lh5.googleusercontent.com/-MPc9R3ISk2A/AAAAAAAAAAI/AAAAAAAAAxI/bbZwN51vStE/s50-c-k-no/photo.jpg",
      "userId": "101056805632633697478"
     },
     "user_tz": -360
    },
    "id": "XgQh1n1BtT1i",
    "outputId": "7555baf5-a57b-43c6-9ee2-1b3c8cc52497"
   },
   "outputs": [
    {
     "name": "stdout",
     "output_type": "stream",
     "text": [
      "(2887, 562)\n",
      "(2887,)\n",
      "(722, 562)\n",
      "(722,)\n"
     ]
    }
   ],
   "source": [
    "print(x_train.shape)\n",
    "print(y_train.shape)\n",
    "print(x_test.shape)\n",
    "print(y_test.shape)"
   ]
  },
  {
   "cell_type": "code",
   "execution_count": 0,
   "metadata": {
    "colab": {
     "autoexec": {
      "startup": false,
      "wait_interval": 0
     }
    },
    "colab_type": "code",
    "id": "_Z5DqlL8rR7F"
   },
   "outputs": [],
   "source": [
    "\n",
    "from sklearn import svm\n",
    "\n",
    "clf=svm.SVC(C=500,kernel=\"linear\")\n",
    "clf.fit(x_train,y_train)"
   ]
  },
  {
   "cell_type": "code",
   "execution_count": 0,
   "metadata": {
    "colab": {
     "autoexec": {
      "startup": false,
      "wait_interval": 0
     }
    },
    "colab_type": "code",
    "id": "49XJZPtNrT14"
   },
   "outputs": [],
   "source": [
    "pred=clf.predict(x_test)"
   ]
  },
  {
   "cell_type": "code",
   "execution_count": 48,
   "metadata": {
    "colab": {
     "autoexec": {
      "startup": false,
      "wait_interval": 0
     },
     "base_uri": "https://localhost:8080/",
     "height": 51
    },
    "colab_type": "code",
    "executionInfo": {
     "elapsed": 811,
     "status": "ok",
     "timestamp": 1530715827983,
     "user": {
      "displayName": "Sajjad Ahmed",
      "photoUrl": "//lh5.googleusercontent.com/-MPc9R3ISk2A/AAAAAAAAAAI/AAAAAAAAAxI/bbZwN51vStE/s50-c-k-no/photo.jpg",
      "userId": "101056805632633697478"
     },
     "user_tz": -360
    },
    "id": "KMQsvcQbulez",
    "outputId": "223d343e-6cdd-4211-fc4a-f52d89b723af"
   },
   "outputs": [
    {
     "name": "stdout",
     "output_type": "stream",
     "text": [
      "(722,)\n",
      "(722,)\n"
     ]
    }
   ],
   "source": [
    "print(pred.shape)\n",
    "print(y_test.shape)"
   ]
  },
  {
   "cell_type": "code",
   "execution_count": 49,
   "metadata": {
    "colab": {
     "autoexec": {
      "startup": false,
      "wait_interval": 0
     },
     "base_uri": "https://localhost:8080/",
     "height": 34
    },
    "colab_type": "code",
    "executionInfo": {
     "elapsed": 1047,
     "status": "ok",
     "timestamp": 1530715829722,
     "user": {
      "displayName": "Sajjad Ahmed",
      "photoUrl": "//lh5.googleusercontent.com/-MPc9R3ISk2A/AAAAAAAAAAI/AAAAAAAAAxI/bbZwN51vStE/s50-c-k-no/photo.jpg",
      "userId": "101056805632633697478"
     },
     "user_tz": -360
    },
    "id": "knLrTTdGsCbv",
    "outputId": "ffff1a96-49f7-428e-ef91-057e8721e8be"
   },
   "outputs": [
    {
     "name": "stdout",
     "output_type": "stream",
     "text": [
      "0.9722991689750693\n"
     ]
    }
   ],
   "source": [
    "print(accuracy_score(y_test, pred))"
   ]
  },
  {
   "cell_type": "code",
   "execution_count": 0,
   "metadata": {
    "colab": {
     "autoexec": {
      "startup": false,
      "wait_interval": 0
     }
    },
    "colab_type": "code",
    "id": "1MNuJ30dsEOH"
   },
   "outputs": [],
   "source": []
  }
 ],
 "metadata": {
  "colab": {
   "collapsed_sections": [],
   "default_view": {},
   "name": "mobile_activity",
   "provenance": [],
   "version": "0.3.2",
   "views": {}
  },
  "kernelspec": {
   "display_name": "Python 3",
   "language": "python",
   "name": "python3"
  },
  "language_info": {
   "codemirror_mode": {
    "name": "ipython",
    "version": 3
   },
   "file_extension": ".py",
   "mimetype": "text/x-python",
   "name": "python",
   "nbconvert_exporter": "python",
   "pygments_lexer": "ipython3",
   "version": "3.5.5"
  }
 },
 "nbformat": 4,
 "nbformat_minor": 1
}
