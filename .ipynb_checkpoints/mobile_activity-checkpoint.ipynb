{
 "cells": [
  {
   "cell_type": "markdown",
   "metadata": {
    "colab_type": "text",
    "id": "PFw5WThQOcK6"
   },
   "source": [
    "# Import Stuff"
   ]
  },
  {
   "cell_type": "code",
   "execution_count": 95,
   "metadata": {
    "colab": {
     "autoexec": {
      "startup": false,
      "wait_interval": 0
     },
     "base_uri": "https://localhost:8080/",
     "height": 34
    },
    "colab_type": "code",
    "executionInfo": {
     "elapsed": 2831,
     "status": "ok",
     "timestamp": 1530713974755,
     "user": {
      "displayName": "Sajjad Ahmed",
      "photoUrl": "//lh5.googleusercontent.com/-MPc9R3ISk2A/AAAAAAAAAAI/AAAAAAAAAxI/bbZwN51vStE/s50-c-k-no/photo.jpg",
      "userId": "101056805632633697478"
     },
     "user_tz": -360
    },
    "id": "4pJxHnUcOWBo",
    "outputId": "7573f2db-c431-4c06-916f-fc78f221a525"
   },
   "outputs": [],
   "source": [
    "import tensorflow as tf\n",
    "import pandas as pd\n",
    "import numpy as np\n",
    "from sklearn.model_selection import train_test_split\n",
    "from sklearn.metrics import accuracy_score\n",
    "from sklearn import svm\n",
    "from time import time"
   ]
  },
  {
   "cell_type": "markdown",
   "metadata": {
    "colab_type": "text",
    "id": "JYsDNCaCQZbB"
   },
   "source": [
    "# Convert Train and Test to PD DATAFRAME"
   ]
  },
  {
   "cell_type": "code",
   "execution_count": 119,
   "metadata": {
    "colab": {
     "autoexec": {
      "startup": false,
      "wait_interval": 0
     },
     "base_uri": "https://localhost:8080/",
     "height": 51
    },
    "colab_type": "code",
    "executionInfo": {
     "elapsed": 1225,
     "status": "ok",
     "timestamp": 1530714048101,
     "user": {
      "displayName": "Sajjad Ahmed",
      "photoUrl": "//lh5.googleusercontent.com/-MPc9R3ISk2A/AAAAAAAAAAI/AAAAAAAAAxI/bbZwN51vStE/s50-c-k-no/photo.jpg",
      "userId": "101056805632633697478"
     },
     "user_tz": -360
    },
    "id": "y6p1qh0eOvvC",
    "outputId": "4300fbb7-53a6-4186-a1b0-ef9bd18af0a5"
   },
   "outputs": [
    {
     "name": "stdout",
     "output_type": "stream",
     "text": [
      "(3609, 563)\n",
      "(1541, 562)\n"
     ]
    }
   ],
   "source": []
  },
  {
   "cell_type": "code",
   "execution_count": 131,
   "metadata": {
    "colab": {
     "autoexec": {
      "startup": false,
      "wait_interval": 0
     }
    },
    "colab_type": "code",
    "id": "RuPSt-TTQ6fd"
   },
   "outputs": [
    {
     "name": "stdout",
     "output_type": "stream",
     "text": [
      "(3609, 563)\n",
      "(1541, 562)\n"
     ]
    }
   ],
   "source": [
    "df_train = pd.read_csv('train.csv')\n",
    "df_test = pd.read_csv('test.csv')\n",
    "\n",
    "print(df_train.shape)\n",
    "print(df_test.shape)\n",
    "\n",
    "x_train=df_train.drop('activity',axis=1)\n",
    "y_train=df_train['activity']\n",
    "\n",
    "x_train,x_test, y_train, y_test=train_test_split(x_train,y_train,test_size=.2)\n"
   ]
  },
  {
   "cell_type": "markdown",
   "metadata": {
    "colab_type": "text",
    "id": "5Yx_HHLxQ-2v"
   },
   "source": [
    "## Split train test data"
   ]
  },
  {
   "cell_type": "code",
   "execution_count": 121,
   "metadata": {
    "colab": {
     "autoexec": {
      "startup": false,
      "wait_interval": 0
     }
    },
    "colab_type": "code",
    "id": "XjNldGeLs7yi"
   },
   "outputs": [],
   "source": [
    "x_train,x_test, y_train, y_test=train_test_split(x_train,y_train,test_size=.2)\n"
   ]
  },
  {
   "cell_type": "code",
   "execution_count": 122,
   "metadata": {
    "colab": {
     "autoexec": {
      "startup": false,
      "wait_interval": 0
     },
     "base_uri": "https://localhost:8080/",
     "height": 85
    },
    "colab_type": "code",
    "executionInfo": {
     "elapsed": 1059,
     "status": "ok",
     "timestamp": 1530715040310,
     "user": {
      "displayName": "Sajjad Ahmed",
      "photoUrl": "//lh5.googleusercontent.com/-MPc9R3ISk2A/AAAAAAAAAAI/AAAAAAAAAxI/bbZwN51vStE/s50-c-k-no/photo.jpg",
      "userId": "101056805632633697478"
     },
     "user_tz": -360
    },
    "id": "XgQh1n1BtT1i",
    "outputId": "7555baf5-a57b-43c6-9ee2-1b3c8cc52497"
   },
   "outputs": [
    {
     "name": "stdout",
     "output_type": "stream",
     "text": [
      "(2887, 562)\n",
      "(2887,)\n",
      "(722, 562)\n",
      "(722,)\n"
     ]
    }
   ],
   "source": [
    "print(x_train.shape)\n",
    "print(y_train.shape)\n",
    "print(x_test.shape)\n",
    "print(y_test.shape)"
   ]
  },
  {
   "cell_type": "markdown",
   "metadata": {},
   "source": [
    "# Train"
   ]
  },
  {
   "cell_type": "code",
   "execution_count": 9,
   "metadata": {
    "colab": {
     "autoexec": {
      "startup": false,
      "wait_interval": 0
     }
    },
    "colab_type": "code",
    "id": "1MNuJ30dsEOH"
   },
   "outputs": [],
   "source": [
    "from sklearn.preprocessing import StandardScaler\n",
    "from sklearn.datasets import make_moons, make_circles, make_classification\n",
    "from sklearn.neural_network import MLPClassifier\n",
    "from sklearn.neighbors import KNeighborsClassifier\n",
    "from sklearn.svm import SVC\n",
    "from sklearn.gaussian_process import GaussianProcessClassifier\n",
    "from sklearn.gaussian_process.kernels import RBF\n",
    "from sklearn.tree import DecisionTreeClassifier\n",
    "from sklearn.ensemble import RandomForestClassifier, AdaBoostClassifier\n",
    "from sklearn.naive_bayes import GaussianNB\n",
    "from sklearn.discriminant_analysis import QuadraticDiscriminantAnalysis"
   ]
  },
  {
   "cell_type": "code",
   "execution_count": 10,
   "metadata": {
    "colab": {
     "autoexec": {
      "startup": false,
      "wait_interval": 0
     }
    },
    "colab_type": "code",
    "id": "_Z5DqlL8rR7F"
   },
   "outputs": [
    {
     "name": "stdout",
     "output_type": "stream",
     "text": [
      "time: 1.858001708984375 sec\n",
      "score: 0.9480968858131488\n"
     ]
    }
   ],
   "source": [
    "clf=svm.SVC(C=100,kernel='rbf')\n",
    "st=time()\n",
    "clf.fit(x_train,y_train)\n",
    "print(\"time: \",end=\"\" )\n",
    "print(str(time()-st)+\" sec\")\n",
    "pred=clf.predict(x_test)\n",
    "print(\"score: \"+str(accuracy_score(y_test, pred)))"
   ]
  },
  {
   "cell_type": "code",
   "execution_count": 11,
   "metadata": {},
   "outputs": [
    {
     "name": "stdout",
     "output_type": "stream",
     "text": [
      "time: 0.5485303401947021 sec\n",
      "score: 0.7750865051903114\n"
     ]
    }
   ],
   "source": [
    "clf=MLPClassifier()\n",
    "st=time()\n",
    "clf.fit(x_train,y_train)\n",
    "print(\"time: \",end=\"\" )\n",
    "print(str(time()-st)+\" sec\")\n",
    "pred=clf.predict(x_test)\n",
    "print(\"score: \"+str(accuracy_score(y_test, pred)))"
   ]
  },
  {
   "cell_type": "code",
   "execution_count": 12,
   "metadata": {},
   "outputs": [
    {
     "name": "stdout",
     "output_type": "stream",
     "text": [
      "time: 0.04288506507873535 sec\n",
      "score: 0.7993079584775087\n"
     ]
    }
   ],
   "source": [
    "from sklearn import naive_bayes\n",
    "clf=naive_bayes.GaussianNB()\n",
    "st=time()\n",
    "clf.fit(x_train,y_train)\n",
    "print(\"time: \",end=\"\" )\n",
    "print(str(time()-st)+\" sec\")\n",
    "pred=clf.predict(x_test)\n",
    "print(\"score: \"+str(accuracy_score(y_test, pred)))"
   ]
  },
  {
   "cell_type": "code",
   "execution_count": 10,
   "metadata": {},
   "outputs": [
    {
     "name": "stdout",
     "output_type": "stream",
     "text": [
      "time: 0.8469910621643066 sec\n",
      "score: 0.9113573407202216\n"
     ]
    }
   ],
   "source": [
    "clf=DecisionTreeClassifier()\n",
    "st=time()\n",
    "clf.fit(x_train,y_train)\n",
    "print(\"time: \",end=\"\" )\n",
    "print(str(time()-st)+\" sec\")\n",
    "pred=clf.predict(x_test)\n",
    "print(\"score: \"+str(accuracy_score(y_test, pred)))"
   ]
  },
  {
   "cell_type": "code",
   "execution_count": 11,
   "metadata": {},
   "outputs": [
    {
     "name": "stdout",
     "output_type": "stream",
     "text": [
      "time: 0.27974891662597656 sec\n",
      "score: 0.9542936288088643\n"
     ]
    }
   ],
   "source": [
    "clf=RandomForestClassifier(criterion='entropy')\n",
    "st=time()\n",
    "clf.fit(x_train,y_train)\n",
    "print(\"time: \",end=\"\" )\n",
    "print(str(time()-st)+\" sec\")\n",
    "pred=clf.predict(x_test)\n",
    "print(\"score: \"+str(accuracy_score(y_test, pred)))"
   ]
  },
  {
   "cell_type": "code",
   "execution_count": null,
   "metadata": {},
   "outputs": [],
   "source": []
  },
  {
   "cell_type": "code",
   "execution_count": null,
   "metadata": {},
   "outputs": [],
   "source": []
  },
  {
   "cell_type": "code",
   "execution_count": null,
   "metadata": {},
   "outputs": [],
   "source": []
  },
  {
   "cell_type": "code",
   "execution_count": 123,
   "metadata": {},
   "outputs": [],
   "source": [
    "y_train.replace({'LAYING':1,  'STANDING':2,  'SITTING':3,  'WALKING':4,  'WALKING_UPSTAIRS':5, 'WALKING_DOWNSTAIRS':6},inplace=True)\n",
    "y_test.replace({'LAYING':1,  'STANDING':2,  'SITTING':3,  'WALKING':4,  'WALKING_UPSTAIRS':5, 'WALKING_DOWNSTAIRS':6},inplace=True)"
   ]
  },
  {
   "cell_type": "code",
   "execution_count": 125,
   "metadata": {},
   "outputs": [
    {
     "data": {
      "text/plain": [
       "1    546\n",
       "2    535\n",
       "4    498\n",
       "3    495\n",
       "5    436\n",
       "6    377\n",
       "Name: activity, dtype: int64"
      ]
     },
     "execution_count": 125,
     "metadata": {},
     "output_type": "execute_result"
    }
   ],
   "source": [
    "y_train.value_counts()"
   ]
  },
  {
   "cell_type": "code",
   "execution_count": 126,
   "metadata": {},
   "outputs": [
    {
     "data": {
      "text/plain": [
       "2973    6.0\n",
       "206     4.0\n",
       "3252    1.0\n",
       "2569    2.0\n",
       "1501    1.0\n",
       "2767    4.0\n",
       "1565    4.0\n",
       "2193    2.0\n",
       "1278    2.0\n",
       "3409    5.0\n",
       "439     1.0\n",
       "2962    4.0\n",
       "2455    1.0\n",
       "3173    3.0\n",
       "136     1.0\n",
       "2657    4.0\n",
       "2841    2.0\n",
       "2274    2.0\n",
       "3172    3.0\n",
       "319     1.0\n",
       "3555    2.0\n",
       "131     3.0\n",
       "2280    3.0\n",
       "401     6.0\n",
       "715     5.0\n",
       "3454    1.0\n",
       "1074    2.0\n",
       "2743    2.0\n",
       "1363    1.0\n",
       "1366    1.0\n",
       "       ... \n",
       "3289    2.0\n",
       "2833    6.0\n",
       "1085    3.0\n",
       "919     1.0\n",
       "2367    6.0\n",
       "3596    6.0\n",
       "2460    1.0\n",
       "2873    6.0\n",
       "948     2.0\n",
       "304     3.0\n",
       "874     4.0\n",
       "2072    3.0\n",
       "3280    6.0\n",
       "3107    2.0\n",
       "172     2.0\n",
       "1923    2.0\n",
       "2385    2.0\n",
       "3495    2.0\n",
       "614     5.0\n",
       "2680    2.0\n",
       "2689    3.0\n",
       "3603    5.0\n",
       "3355    2.0\n",
       "2607    6.0\n",
       "2591    3.0\n",
       "974     1.0\n",
       "2813    1.0\n",
       "3348    2.0\n",
       "3477    6.0\n",
       "2524    3.0\n",
       "Name: activity, Length: 722, dtype: float64"
      ]
     },
     "execution_count": 126,
     "metadata": {},
     "output_type": "execute_result"
    }
   ],
   "source": [
    "x_train=x_train.astype(\"float64\")\n",
    "y_train=y_train.astype(\"float64\")\n",
    "x_test=x_test.astype(\"float64\")\n",
    "y_test=y_test.astype(\"float64\")"
   ]
  },
  {
   "cell_type": "code",
   "execution_count": 127,
   "metadata": {},
   "outputs": [
    {
     "data": {
      "text/plain": [
       "1    546\n",
       "2    535\n",
       "4    498\n",
       "3    495\n",
       "5    436\n",
       "6    377\n",
       "Name: activity, dtype: int64"
      ]
     },
     "execution_count": 127,
     "metadata": {},
     "output_type": "execute_result"
    }
   ],
   "source": [
    "y_train.value_counts()"
   ]
  },
  {
   "cell_type": "code",
   "execution_count": 128,
   "metadata": {},
   "outputs": [],
   "source": [
    "y_train = tf.keras.utils.to_categorical(y=y_train,num_classes=6)"
   ]
  },
  {
   "cell_type": "code",
   "execution_count": 130,
   "metadata": {},
   "outputs": [
    {
     "data": {
      "text/plain": [
       "array([[0., 0., 0., ..., 0., 1., 0.],\n",
       "       [0., 0., 0., ..., 0., 0., 0.],\n",
       "       [0., 0., 0., ..., 1., 0., 0.],\n",
       "       ...,\n",
       "       [0., 0., 0., ..., 1., 0., 0.],\n",
       "       [0., 0., 1., ..., 0., 0., 0.],\n",
       "       [0., 0., 1., ..., 0., 0., 0.]])"
      ]
     },
     "execution_count": 130,
     "metadata": {},
     "output_type": "execute_result"
    }
   ],
   "source": [
    "y_train"
   ]
  },
  {
   "cell_type": "code",
   "execution_count": 116,
   "metadata": {},
   "outputs": [
    {
     "name": "stdout",
     "output_type": "stream",
     "text": [
      "_________________________________________________________________\n",
      "Layer (type)                 Output Shape              Param #   \n",
      "=================================================================\n",
      "dense_25 (Dense)             (None, 1024)              576512    \n",
      "_________________________________________________________________\n",
      "dense_26 (Dense)             (None, 512)               524800    \n",
      "_________________________________________________________________\n",
      "dense_27 (Dense)             (None, 256)               131328    \n",
      "_________________________________________________________________\n",
      "dense_28 (Dense)             (None, 128)               32896     \n",
      "_________________________________________________________________\n",
      "dense_29 (Dense)             (None, 64)                8256      \n",
      "_________________________________________________________________\n",
      "dense_30 (Dense)             (None, 6)                 390       \n",
      "=================================================================\n",
      "Total params: 1,274,182\n",
      "Trainable params: 1,274,182\n",
      "Non-trainable params: 0\n",
      "_________________________________________________________________\n"
     ]
    }
   ],
   "source": [
    "model =tf.keras.Sequential()\n",
    "model.add(tf.keras.layers.Dense(1024 ,activation=tf.nn.relu, input_shape=(562,)))\n",
    "model.add(tf.keras.layers.Dense(512 ,activation=tf.nn.relu))\n",
    "model.add(tf.keras.layers.Dense(256 ,activation=tf.nn.relu))\n",
    "model.add(tf.keras.layers.Dense(128 ,activation=tf.nn.relu))\n",
    "model.add(tf.keras.layers.Dense(64 ,activation=tf.nn.relu))\n",
    "model.add(tf.keras.layers.Dense(6 ,activation=tf.nn.softmax))\n",
    "model.compile(loss='categorical_crossentropy', optimizer='rmsprop')\n",
    "model.summary()"
   ]
  },
  {
   "cell_type": "code",
   "execution_count": 117,
   "metadata": {},
   "outputs": [
    {
     "ename": "ValueError",
     "evalue": "Error when checking target: expected dense_30 to have shape (6,) but got array with shape (7,)",
     "output_type": "error",
     "traceback": [
      "\u001b[1;31m---------------------------------------------------------------------------\u001b[0m",
      "\u001b[1;31mValueError\u001b[0m                                Traceback (most recent call last)",
      "\u001b[1;32m<ipython-input-117-f8ad6039cb64>\u001b[0m in \u001b[0;36m<module>\u001b[1;34m()\u001b[0m\n\u001b[1;32m----> 1\u001b[1;33m \u001b[0mhisory\u001b[0m \u001b[1;33m=\u001b[0m \u001b[0mmodel\u001b[0m\u001b[1;33m.\u001b[0m\u001b[0mfit\u001b[0m\u001b[1;33m(\u001b[0m\u001b[0mx_train\u001b[0m\u001b[1;33m,\u001b[0m\u001b[0my_train\u001b[0m\u001b[1;33m,\u001b[0m\u001b[0mepochs\u001b[0m\u001b[1;33m=\u001b[0m\u001b[1;36m10\u001b[0m\u001b[1;33m)\u001b[0m\u001b[1;33m\u001b[0m\u001b[0m\n\u001b[0m",
      "\u001b[1;32m~\\Anaconda3\\envs\\tf_gpu\\lib\\site-packages\\tensorflow\\python\\keras\\_impl\\keras\\engine\\training.py\u001b[0m in \u001b[0;36mfit\u001b[1;34m(self, x, y, batch_size, epochs, verbose, callbacks, validation_split, validation_data, shuffle, class_weight, sample_weight, initial_epoch, steps_per_epoch, validation_steps, **kwargs)\u001b[0m\n\u001b[0;32m   1141\u001b[0m         \u001b[0msample_weight\u001b[0m\u001b[1;33m=\u001b[0m\u001b[0msample_weight\u001b[0m\u001b[1;33m,\u001b[0m\u001b[1;33m\u001b[0m\u001b[0m\n\u001b[0;32m   1142\u001b[0m         \u001b[0mclass_weight\u001b[0m\u001b[1;33m=\u001b[0m\u001b[0mclass_weight\u001b[0m\u001b[1;33m,\u001b[0m\u001b[1;33m\u001b[0m\u001b[0m\n\u001b[1;32m-> 1143\u001b[1;33m         batch_size=batch_size)\n\u001b[0m\u001b[0;32m   1144\u001b[0m     \u001b[1;31m# Prepare validation data.\u001b[0m\u001b[1;33m\u001b[0m\u001b[1;33m\u001b[0m\u001b[0m\n\u001b[0;32m   1145\u001b[0m     \u001b[1;32mif\u001b[0m \u001b[0mvalidation_data\u001b[0m\u001b[1;33m:\u001b[0m\u001b[1;33m\u001b[0m\u001b[0m\n",
      "\u001b[1;32m~\\Anaconda3\\envs\\tf_gpu\\lib\\site-packages\\tensorflow\\python\\keras\\_impl\\keras\\engine\\training.py\u001b[0m in \u001b[0;36m_standardize_user_data\u001b[1;34m(self, x, y, sample_weight, class_weight, batch_size)\u001b[0m\n\u001b[0;32m    802\u001b[0m           \u001b[0mfeed_output_shapes\u001b[0m\u001b[1;33m,\u001b[0m\u001b[1;33m\u001b[0m\u001b[0m\n\u001b[0;32m    803\u001b[0m           \u001b[0mcheck_batch_axis\u001b[0m\u001b[1;33m=\u001b[0m\u001b[1;32mFalse\u001b[0m\u001b[1;33m,\u001b[0m  \u001b[1;31m# Don't enforce the batch size.\u001b[0m\u001b[1;33m\u001b[0m\u001b[0m\n\u001b[1;32m--> 804\u001b[1;33m           exception_prefix='target')\n\u001b[0m\u001b[0;32m    805\u001b[0m \u001b[1;33m\u001b[0m\u001b[0m\n\u001b[0;32m    806\u001b[0m       \u001b[1;31m# Generate sample-wise weight values given the `sample_weight` and\u001b[0m\u001b[1;33m\u001b[0m\u001b[1;33m\u001b[0m\u001b[0m\n",
      "\u001b[1;32m~\\Anaconda3\\envs\\tf_gpu\\lib\\site-packages\\tensorflow\\python\\keras\\_impl\\keras\\engine\\training_utils.py\u001b[0m in \u001b[0;36mstandardize_input_data\u001b[1;34m(data, names, shapes, check_batch_axis, exception_prefix)\u001b[0m\n\u001b[0;32m    190\u001b[0m                 \u001b[1;34m'Error when checking '\u001b[0m \u001b[1;33m+\u001b[0m \u001b[0mexception_prefix\u001b[0m \u001b[1;33m+\u001b[0m \u001b[1;34m': expected '\u001b[0m \u001b[1;33m+\u001b[0m\u001b[1;33m\u001b[0m\u001b[0m\n\u001b[0;32m    191\u001b[0m                 \u001b[0mnames\u001b[0m\u001b[1;33m[\u001b[0m\u001b[0mi\u001b[0m\u001b[1;33m]\u001b[0m \u001b[1;33m+\u001b[0m \u001b[1;34m' to have shape '\u001b[0m \u001b[1;33m+\u001b[0m \u001b[0mstr\u001b[0m\u001b[1;33m(\u001b[0m\u001b[0mshape\u001b[0m\u001b[1;33m)\u001b[0m \u001b[1;33m+\u001b[0m\u001b[1;33m\u001b[0m\u001b[0m\n\u001b[1;32m--> 192\u001b[1;33m                 ' but got array with shape ' + str(data_shape))\n\u001b[0m\u001b[0;32m    193\u001b[0m   \u001b[1;32mreturn\u001b[0m \u001b[0mdata\u001b[0m\u001b[1;33m\u001b[0m\u001b[0m\n\u001b[0;32m    194\u001b[0m \u001b[1;33m\u001b[0m\u001b[0m\n",
      "\u001b[1;31mValueError\u001b[0m: Error when checking target: expected dense_30 to have shape (6,) but got array with shape (7,)"
     ]
    }
   ],
   "source": [
    "hisory = model.fit(x_train,y_train,epochs=10)"
   ]
  },
  {
   "cell_type": "code",
   "execution_count": 114,
   "metadata": {},
   "outputs": [
    {
     "ename": "KeyError",
     "evalue": "'acc'",
     "output_type": "error",
     "traceback": [
      "\u001b[1;31m---------------------------------------------------------------------------\u001b[0m",
      "\u001b[1;31mKeyError\u001b[0m                                  Traceback (most recent call last)",
      "\u001b[1;32m<ipython-input-114-853cb39db22d>\u001b[0m in \u001b[0;36m<module>\u001b[1;34m()\u001b[0m\n\u001b[0;32m      1\u001b[0m \u001b[1;32mimport\u001b[0m \u001b[0mmatplotlib\u001b[0m\u001b[1;33m.\u001b[0m\u001b[0mpyplot\u001b[0m \u001b[1;32mas\u001b[0m \u001b[0mplt\u001b[0m\u001b[1;33m\u001b[0m\u001b[0m\n\u001b[0;32m      2\u001b[0m \u001b[1;33m\u001b[0m\u001b[0m\n\u001b[1;32m----> 3\u001b[1;33m \u001b[0mplt\u001b[0m\u001b[1;33m.\u001b[0m\u001b[0mplot\u001b[0m\u001b[1;33m(\u001b[0m\u001b[0mhisory\u001b[0m\u001b[1;33m.\u001b[0m\u001b[0mhistory\u001b[0m\u001b[1;33m[\u001b[0m\u001b[1;34m'acc'\u001b[0m\u001b[1;33m]\u001b[0m\u001b[1;33m)\u001b[0m\u001b[1;33m\u001b[0m\u001b[0m\n\u001b[0m\u001b[0;32m      4\u001b[0m \u001b[0mplt\u001b[0m\u001b[1;33m.\u001b[0m\u001b[0mplot\u001b[0m\u001b[1;33m(\u001b[0m\u001b[0mhisory\u001b[0m\u001b[1;33m.\u001b[0m\u001b[0mhistory\u001b[0m\u001b[1;33m[\u001b[0m\u001b[1;34m'loss'\u001b[0m\u001b[1;33m]\u001b[0m\u001b[1;33m)\u001b[0m\u001b[1;33m\u001b[0m\u001b[0m\n",
      "\u001b[1;31mKeyError\u001b[0m: 'acc'"
     ]
    }
   ],
   "source": [
    "import matplotlib.pyplot as plt\n",
    "\n",
    "plt.plot(hisory.history['acc'])\n",
    "plt.plot(hisory.history['loss'])"
   ]
  },
  {
   "cell_type": "code",
   "execution_count": null,
   "metadata": {},
   "outputs": [],
   "source": []
  },
  {
   "cell_type": "code",
   "execution_count": 110,
   "metadata": {},
   "outputs": [
    {
     "name": "stdout",
     "output_type": "stream",
     "text": [
      "[[nan nan nan nan nan nan]\n",
      " [nan nan nan nan nan nan]\n",
      " [nan nan nan nan nan nan]\n",
      " ...\n",
      " [nan nan nan nan nan nan]\n",
      " [nan nan nan nan nan nan]\n",
      " [nan nan nan nan nan nan]]\n"
     ]
    }
   ],
   "source": [
    "res = model.predict(x_test)\n",
    "print(res)\n",
    "# np.savetxt(\"foo.csv\", res, delimiter=\",\")\n",
    "# from google.colab import files\n",
    "# files.download('foo.csv')"
   ]
  },
  {
   "cell_type": "code",
   "execution_count": 111,
   "metadata": {},
   "outputs": [
    {
     "data": {
      "text/plain": [
       "(722, 6)"
      ]
     },
     "execution_count": 111,
     "metadata": {},
     "output_type": "execute_result"
    }
   ],
   "source": [
    "res.shape"
   ]
  },
  {
   "cell_type": "code",
   "execution_count": null,
   "metadata": {},
   "outputs": [],
   "source": []
  }
 ],
 "metadata": {
  "colab": {
   "collapsed_sections": [],
   "default_view": {},
   "name": "mobile_activity",
   "provenance": [],
   "version": "0.3.2",
   "views": {}
  },
  "kernelspec": {
   "display_name": "Python 3",
   "language": "python",
   "name": "python3"
  },
  "language_info": {
   "codemirror_mode": {
    "name": "ipython",
    "version": 3
   },
   "file_extension": ".py",
   "mimetype": "text/x-python",
   "name": "python",
   "nbconvert_exporter": "python",
   "pygments_lexer": "ipython3",
   "version": "3.5.5"
  }
 },
 "nbformat": 4,
 "nbformat_minor": 1
}
