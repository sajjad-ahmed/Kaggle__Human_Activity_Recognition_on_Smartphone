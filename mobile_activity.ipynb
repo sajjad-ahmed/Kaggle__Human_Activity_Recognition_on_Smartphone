{
 "cells": [
  {
   "cell_type": "markdown",
   "metadata": {
    "colab_type": "text",
    "id": "PFw5WThQOcK6"
   },
   "source": [
    "# Import Stuff"
   ]
  },
  {
   "cell_type": "code",
   "execution_count": 1,
   "metadata": {
    "colab": {
     "autoexec": {
      "startup": false,
      "wait_interval": 0
     },
     "base_uri": "https://localhost:8080/",
     "height": 34
    },
    "colab_type": "code",
    "executionInfo": {
     "elapsed": 2831,
     "status": "ok",
     "timestamp": 1530713974755,
     "user": {
      "displayName": "Sajjad Ahmed",
      "photoUrl": "//lh5.googleusercontent.com/-MPc9R3ISk2A/AAAAAAAAAAI/AAAAAAAAAxI/bbZwN51vStE/s50-c-k-no/photo.jpg",
      "userId": "101056805632633697478"
     },
     "user_tz": -360
    },
    "id": "4pJxHnUcOWBo",
    "outputId": "7573f2db-c431-4c06-916f-fc78f221a525"
   },
   "outputs": [],
   "source": [
    "import tensorflow as tf\n",
    "import pandas as pd\n",
    "import numpy as np\n",
    "from sklearn.model_selection import train_test_split\n",
    "from sklearn.metrics import accuracy_score\n",
    "from sklearn import svm\n",
    "from time import time"
   ]
  },
  {
   "cell_type": "markdown",
   "metadata": {
    "colab_type": "text",
    "id": "JYsDNCaCQZbB"
   },
   "source": [
    "# Convert Train and Test to PD DATAFRAME"
   ]
  },
  {
   "cell_type": "code",
   "execution_count": 119,
   "metadata": {
    "colab": {
     "autoexec": {
      "startup": false,
      "wait_interval": 0
     },
     "base_uri": "https://localhost:8080/",
     "height": 51
    },
    "colab_type": "code",
    "executionInfo": {
     "elapsed": 1225,
     "status": "ok",
     "timestamp": 1530714048101,
     "user": {
      "displayName": "Sajjad Ahmed",
      "photoUrl": "//lh5.googleusercontent.com/-MPc9R3ISk2A/AAAAAAAAAAI/AAAAAAAAAxI/bbZwN51vStE/s50-c-k-no/photo.jpg",
      "userId": "101056805632633697478"
     },
     "user_tz": -360
    },
    "id": "y6p1qh0eOvvC",
    "outputId": "4300fbb7-53a6-4186-a1b0-ef9bd18af0a5"
   },
   "outputs": [
    {
     "name": "stdout",
     "output_type": "stream",
     "text": [
      "(3609, 563)\n",
      "(1541, 562)\n"
     ]
    }
   ],
   "source": []
  },
  {
   "cell_type": "code",
   "execution_count": 131,
   "metadata": {
    "colab": {
     "autoexec": {
      "startup": false,
      "wait_interval": 0
     }
    },
    "colab_type": "code",
    "id": "RuPSt-TTQ6fd"
   },
   "outputs": [
    {
     "name": "stdout",
     "output_type": "stream",
     "text": [
      "(3609, 563)\n",
      "(1541, 562)\n"
     ]
    }
   ],
   "source": [
    "df_train = pd.read_csv('train.csv')\n",
    "df_test = pd.read_csv('test.csv')\n",
    "\n",
    "print(df_train.shape)\n",
    "print(df_test.shape)\n",
    "\n",
    "x_train=df_train.drop('activity',axis=1)\n",
    "y_train=df_train['activity']\n",
    "\n",
    "x_train,x_test, y_train, y_test=train_test_split(x_train,y_train,test_size=.2)\n"
   ]
  },
  {
   "cell_type": "markdown",
   "metadata": {
    "colab_type": "text",
    "id": "5Yx_HHLxQ-2v"
   },
   "source": [
    "## Split train test data"
   ]
  },
  {
   "cell_type": "code",
   "execution_count": 121,
   "metadata": {
    "colab": {
     "autoexec": {
      "startup": false,
      "wait_interval": 0
     }
    },
    "colab_type": "code",
    "id": "XjNldGeLs7yi"
   },
   "outputs": [],
   "source": [
    "x_train,x_test, y_train, y_test=train_test_split(x_train,y_train,test_size=.2)\n"
   ]
  },
  {
   "cell_type": "code",
   "execution_count": 122,
   "metadata": {
    "colab": {
     "autoexec": {
      "startup": false,
      "wait_interval": 0
     },
     "base_uri": "https://localhost:8080/",
     "height": 85
    },
    "colab_type": "code",
    "executionInfo": {
     "elapsed": 1059,
     "status": "ok",
     "timestamp": 1530715040310,
     "user": {
      "displayName": "Sajjad Ahmed",
      "photoUrl": "//lh5.googleusercontent.com/-MPc9R3ISk2A/AAAAAAAAAAI/AAAAAAAAAxI/bbZwN51vStE/s50-c-k-no/photo.jpg",
      "userId": "101056805632633697478"
     },
     "user_tz": -360
    },
    "id": "XgQh1n1BtT1i",
    "outputId": "7555baf5-a57b-43c6-9ee2-1b3c8cc52497"
   },
   "outputs": [
    {
     "name": "stdout",
     "output_type": "stream",
     "text": [
      "(2887, 562)\n",
      "(2887,)\n",
      "(722, 562)\n",
      "(722,)\n"
     ]
    }
   ],
   "source": [
    "print(x_train.shape)\n",
    "print(y_train.shape)\n",
    "print(x_test.shape)\n",
    "print(y_test.shape)"
   ]
  },
  {
   "cell_type": "markdown",
   "metadata": {},
   "source": [
    "# Train"
   ]
  },
  {
   "cell_type": "code",
   "execution_count": 9,
   "metadata": {
    "colab": {
     "autoexec": {
      "startup": false,
      "wait_interval": 0
     }
    },
    "colab_type": "code",
    "id": "1MNuJ30dsEOH"
   },
   "outputs": [],
   "source": [
    "from sklearn.preprocessing import StandardScaler\n",
    "from sklearn.datasets import make_moons, make_circles, make_classification\n",
    "from sklearn.neural_network import MLPClassifier\n",
    "from sklearn.neighbors import KNeighborsClassifier\n",
    "from sklearn.svm import SVC\n",
    "from sklearn.gaussian_process import GaussianProcessClassifier\n",
    "from sklearn.gaussian_process.kernels import RBF\n",
    "from sklearn.tree import DecisionTreeClassifier\n",
    "from sklearn.ensemble import RandomForestClassifier, AdaBoostClassifier\n",
    "from sklearn.naive_bayes import GaussianNB\n",
    "from sklearn.discriminant_analysis import QuadraticDiscriminantAnalysis"
   ]
  },
  {
   "cell_type": "code",
   "execution_count": 10,
   "metadata": {
    "colab": {
     "autoexec": {
      "startup": false,
      "wait_interval": 0
     }
    },
    "colab_type": "code",
    "id": "_Z5DqlL8rR7F"
   },
   "outputs": [
    {
     "name": "stdout",
     "output_type": "stream",
     "text": [
      "time: 1.858001708984375 sec\n",
      "score: 0.9480968858131488\n"
     ]
    }
   ],
   "source": [
    "clf=svm.SVC(C=100,kernel='rbf')\n",
    "st=time()\n",
    "clf.fit(x_train,y_train)\n",
    "print(\"time: \",end=\"\" )\n",
    "print(str(time()-st)+\" sec\")\n",
    "pred=clf.predict(x_test)\n",
    "print(\"score: \"+str(accuracy_score(y_test, pred)))"
   ]
  },
  {
   "cell_type": "code",
   "execution_count": 11,
   "metadata": {},
   "outputs": [
    {
     "name": "stdout",
     "output_type": "stream",
     "text": [
      "time: 0.5485303401947021 sec\n",
      "score: 0.7750865051903114\n"
     ]
    }
   ],
   "source": [
    "clf=MLPClassifier()\n",
    "st=time()\n",
    "clf.fit(x_train,y_train)\n",
    "print(\"time: \",end=\"\" )\n",
    "print(str(time()-st)+\" sec\")\n",
    "pred=clf.predict(x_test)\n",
    "print(\"score: \"+str(accuracy_score(y_test, pred)))"
   ]
  },
  {
   "cell_type": "code",
   "execution_count": 12,
   "metadata": {},
   "outputs": [
    {
     "name": "stdout",
     "output_type": "stream",
     "text": [
      "time: 0.04288506507873535 sec\n",
      "score: 0.7993079584775087\n"
     ]
    }
   ],
   "source": [
    "from sklearn import naive_bayes\n",
    "clf=naive_bayes.GaussianNB()\n",
    "st=time()\n",
    "clf.fit(x_train,y_train)\n",
    "print(\"time: \",end=\"\" )\n",
    "print(str(time()-st)+\" sec\")\n",
    "pred=clf.predict(x_test)\n",
    "print(\"score: \"+str(accuracy_score(y_test, pred)))"
   ]
  },
  {
   "cell_type": "code",
   "execution_count": 10,
   "metadata": {},
   "outputs": [
    {
     "name": "stdout",
     "output_type": "stream",
     "text": [
      "time: 0.8469910621643066 sec\n",
      "score: 0.9113573407202216\n"
     ]
    }
   ],
   "source": [
    "clf=DecisionTreeClassifier()\n",
    "st=time()\n",
    "clf.fit(x_train,y_train)\n",
    "print(\"time: \",end=\"\" )\n",
    "print(str(time()-st)+\" sec\")\n",
    "pred=clf.predict(x_test)\n",
    "print(\"score: \"+str(accuracy_score(y_test, pred)))"
   ]
  },
  {
   "cell_type": "code",
   "execution_count": 11,
   "metadata": {},
   "outputs": [
    {
     "name": "stdout",
     "output_type": "stream",
     "text": [
      "time: 0.27974891662597656 sec\n",
      "score: 0.9542936288088643\n"
     ]
    }
   ],
   "source": [
    "clf=RandomForestClassifier(criterion='entropy')\n",
    "st=time()\n",
    "clf.fit(x_train,y_train)\n",
    "print(\"time: \",end=\"\" )\n",
    "print(str(time()-st)+\" sec\")\n",
    "pred=clf.predict(x_test)\n",
    "print(\"score: \"+str(accuracy_score(y_test, pred)))"
   ]
  },
  {
   "cell_type": "code",
   "execution_count": null,
   "metadata": {},
   "outputs": [],
   "source": []
  },
  {
   "cell_type": "code",
   "execution_count": null,
   "metadata": {},
   "outputs": [],
   "source": []
  },
  {
   "cell_type": "code",
   "execution_count": 2,
   "metadata": {},
   "outputs": [
    {
     "name": "stdout",
     "output_type": "stream",
     "text": [
      "(3609, 563)\n",
      "(1541, 562)\n"
     ]
    }
   ],
   "source": [
    "df_train = pd.read_csv('train.csv')\n",
    "df_test = pd.read_csv('test.csv')\n",
    "\n",
    "print(df_train.shape)\n",
    "print(df_test.shape)\n",
    "\n",
    "x_train=df_train.drop('activity',axis=1)\n",
    "y_train=df_train['activity']\n",
    "\n",
    "x_train,x_test, y_train, y_test=train_test_split(x_train,y_train,test_size=.2)\n"
   ]
  },
  {
   "cell_type": "code",
   "execution_count": 3,
   "metadata": {},
   "outputs": [
    {
     "name": "stdout",
     "output_type": "stream",
     "text": [
      "(2887, 562)\n",
      "(2887,)\n",
      "(722, 562)\n",
      "(722,)\n"
     ]
    }
   ],
   "source": [
    "print(x_train.shape)\n",
    "print(y_train.shape)\n",
    "print(x_test.shape)\n",
    "print(y_test.shape)"
   ]
  },
  {
   "cell_type": "code",
   "execution_count": 4,
   "metadata": {},
   "outputs": [],
   "source": [
    "y_train.replace({'LAYING':1,  'STANDING':2,  'SITTING':3,  'WALKING':4,  'WALKING_UPSTAIRS':5, 'WALKING_DOWNSTAIRS':6},inplace=True)\n",
    "y_test.replace({'LAYING':1,  'STANDING':2,  'SITTING':3,  'WALKING':4,  'WALKING_UPSTAIRS':5, 'WALKING_DOWNSTAIRS':6},inplace=True)"
   ]
  },
  {
   "cell_type": "code",
   "execution_count": 54,
   "metadata": {},
   "outputs": [],
   "source": [
    "# y_train=pd.DataFrame(y_train)\n",
    "# y_test=pd.DataFrame(y_test)"
   ]
  },
  {
   "cell_type": "code",
   "execution_count": 5,
   "metadata": {},
   "outputs": [],
   "source": [
    "x_train=x_train.astype(\"float\")\n",
    "y_train=y_train.astype(\"float\")\n",
    "x_test=x_test.astype(\"float\")\n",
    "y_test=y_test.astype(\"float\")"
   ]
  },
  {
   "cell_type": "code",
   "execution_count": 6,
   "metadata": {},
   "outputs": [
    {
     "name": "stdout",
     "output_type": "stream",
     "text": [
      "(2887, 562)\n",
      "(2887,)\n",
      "(722, 562)\n",
      "(722,)\n"
     ]
    }
   ],
   "source": [
    "print(x_train.shape)\n",
    "print(y_train.shape)\n",
    "print(x_test.shape)\n",
    "print(y_test.shape)"
   ]
  },
  {
   "cell_type": "code",
   "execution_count": null,
   "metadata": {},
   "outputs": [],
   "source": []
  },
  {
   "cell_type": "code",
   "execution_count": 72,
   "metadata": {},
   "outputs": [
    {
     "name": "stdout",
     "output_type": "stream",
     "text": [
      "(2887, 7)\n",
      "(722, 7)\n"
     ]
    }
   ],
   "source": [
    "y_train = tf.keras.utils.to_categorical(y=y_train.values)\n",
    "y_test = tf.keras.utils.to_categorical(y=y_test.values)\n",
    "print(y_train.shape)\n",
    "print(y_test.shape)"
   ]
  },
  {
   "cell_type": "code",
   "execution_count": 97,
   "metadata": {},
   "outputs": [],
   "source": [
    "y_test=pd.DataFrame(y_test).iloc[:,1:]\n",
    "y_train=pd.DataFrame(y_train).iloc[:,1:]\n"
   ]
  },
  {
   "cell_type": "code",
   "execution_count": 9,
   "metadata": {},
   "outputs": [
    {
     "name": "stdout",
     "output_type": "stream",
     "text": [
      "(2887,)\n",
      "(722,)\n"
     ]
    }
   ],
   "source": [
    "print(y_train.shape)\n",
    "print(y_test.shape)"
   ]
  },
  {
   "cell_type": "code",
   "execution_count": null,
   "metadata": {},
   "outputs": [],
   "source": []
  },
  {
   "cell_type": "code",
   "execution_count": 13,
   "metadata": {},
   "outputs": [
    {
     "name": "stdout",
     "output_type": "stream",
     "text": [
      "_________________________________________________________________\n",
      "Layer (type)                 Output Shape              Param #   \n",
      "=================================================================\n",
      "dense_9 (Dense)              (None, 1124)              632812    \n",
      "_________________________________________________________________\n",
      "dense_10 (Dense)             (None, 562)               632250    \n",
      "_________________________________________________________________\n",
      "dense_11 (Dense)             (None, 140)               78820     \n",
      "_________________________________________________________________\n",
      "dense_12 (Dense)             (None, 6)                 846       \n",
      "=================================================================\n",
      "Total params: 1,344,728\n",
      "Trainable params: 1,344,728\n",
      "Non-trainable params: 0\n",
      "_________________________________________________________________\n"
     ]
    }
   ],
   "source": [
    "model =tf.keras.Sequential()\n",
    "model.add(tf.keras.layers.Dense(1124 ,activation=tf.nn.relu, input_shape=(562,)))\n",
    "model.add(tf.keras.layers.Dense(562 ,activation=tf.nn.relu))\n",
    "# model.add(tf.keras.layers.Dense(281 ,activation=tf.nn.relu))\n",
    "model.add(tf.keras.layers.Dense(140 ,activation=tf.nn.relu))\n",
    "# model.add(tf.keras.layers.Dense(70 ,activation=tf.nn.relu))\n",
    "model.add(tf.keras.layers.Dense(6 ,activation=tf.nn.softmax))\n",
    "model.compile(loss='sparse_categorical_crossentropy', optimizer='adam', \n",
    "              metrics=['accuracy'])\n",
    "model.summary()"
   ]
  },
  {
   "cell_type": "code",
   "execution_count": 14,
   "metadata": {},
   "outputs": [
    {
     "name": "stdout",
     "output_type": "stream",
     "text": [
      "Epoch 1/50\n",
      "2887/2887 [==============================] - 1s 215us/step - loss: nan - acc: 0.0014\n",
      "Epoch 2/50\n",
      "2887/2887 [==============================] - 0s 134us/step - loss: nan - acc: 0.0000e+00\n",
      "Epoch 3/50\n",
      "2887/2887 [==============================] - 0s 135us/step - loss: nan - acc: 0.0000e+000s - loss: nan - acc\n",
      "Epoch 4/50\n",
      "2887/2887 [==============================] - 0s 135us/step - loss: nan - acc: 0.0000e+00\n",
      "Epoch 5/50\n",
      "2887/2887 [==============================] - 0s 143us/step - loss: nan - acc: 0.0000e+00\n",
      "Epoch 6/50\n",
      "2887/2887 [==============================] - 0s 137us/step - loss: nan - acc: 0.0000e+00\n",
      "Epoch 7/50\n",
      "2887/2887 [==============================] - 0s 137us/step - loss: nan - acc: 0.0000e+00\n",
      "Epoch 8/50\n",
      "2887/2887 [==============================] - 0s 135us/step - loss: nan - acc: 0.0000e+00\n",
      "Epoch 9/50\n",
      "2887/2887 [==============================] - 0s 133us/step - loss: nan - acc: 0.0000e+00\n",
      "Epoch 10/50\n",
      "2887/2887 [==============================] - 0s 135us/step - loss: nan - acc: 0.0000e+00\n",
      "Epoch 11/50\n",
      "2887/2887 [==============================] - 0s 137us/step - loss: nan - acc: 0.0000e+00\n",
      "Epoch 12/50\n",
      "2887/2887 [==============================] - 0s 134us/step - loss: nan - acc: 0.0000e+00\n",
      "Epoch 13/50\n",
      "2887/2887 [==============================] - 0s 136us/step - loss: nan - acc: 0.0000e+000s - loss: nan - acc: \n",
      "Epoch 14/50\n",
      "2887/2887 [==============================] - 0s 134us/step - loss: nan - acc: 0.0000e+000s - loss: nan - acc: \n",
      "Epoch 15/50\n",
      "2887/2887 [==============================] - 0s 135us/step - loss: nan - acc: 0.0000e+00\n",
      "Epoch 16/50\n",
      "2887/2887 [==============================] - 0s 135us/step - loss: nan - acc: 0.0000e+000s - loss: nan - a\n",
      "Epoch 17/50\n",
      "2887/2887 [==============================] - 0s 137us/step - loss: nan - acc: 0.0000e+00\n",
      "Epoch 18/50\n",
      "2887/2887 [==============================] - 0s 140us/step - loss: nan - acc: 0.0000e+00\n",
      "Epoch 19/50\n",
      "2887/2887 [==============================] - 0s 131us/step - loss: nan - acc: 0.0000e+00\n",
      "Epoch 20/50\n",
      "2887/2887 [==============================] - 0s 136us/step - loss: nan - acc: 0.0000e+00\n",
      "Epoch 21/50\n",
      "2887/2887 [==============================] - 0s 134us/step - loss: nan - acc: 0.0000e+00\n",
      "Epoch 22/50\n",
      "2887/2887 [==============================] - 0s 135us/step - loss: nan - acc: 0.0000e+00\n",
      "Epoch 23/50\n",
      "2887/2887 [==============================] - 0s 133us/step - loss: nan - acc: 0.0000e+00\n",
      "Epoch 24/50\n",
      "2887/2887 [==============================] - 0s 132us/step - loss: nan - acc: 0.0000e+00\n",
      "Epoch 25/50\n",
      "2887/2887 [==============================] - 0s 133us/step - loss: nan - acc: 0.0000e+00\n",
      "Epoch 26/50\n",
      "2887/2887 [==============================] - 0s 135us/step - loss: nan - acc: 0.0000e+00\n",
      "Epoch 27/50\n",
      "2887/2887 [==============================] - 0s 131us/step - loss: nan - acc: 0.0000e+00\n",
      "Epoch 28/50\n",
      "2887/2887 [==============================] - 0s 133us/step - loss: nan - acc: 0.0000e+00\n",
      "Epoch 29/50\n",
      "2887/2887 [==============================] - 0s 133us/step - loss: nan - acc: 0.0000e+00\n",
      "Epoch 30/50\n",
      "2887/2887 [==============================] - 0s 133us/step - loss: nan - acc: 0.0000e+00\n",
      "Epoch 31/50\n",
      "2887/2887 [==============================] - 0s 133us/step - loss: nan - acc: 0.0000e+000s - loss: nan - acc\n",
      "Epoch 32/50\n",
      "2887/2887 [==============================] - 0s 132us/step - loss: nan - acc: 0.0000e+00\n",
      "Epoch 33/50\n",
      "2887/2887 [==============================] - 0s 132us/step - loss: nan - acc: 0.0000e+00\n",
      "Epoch 34/50\n",
      "2887/2887 [==============================] - 0s 132us/step - loss: nan - acc: 0.0000e+00\n",
      "Epoch 35/50\n",
      "2887/2887 [==============================] - 0s 131us/step - loss: nan - acc: 0.0000e+00\n",
      "Epoch 36/50\n",
      "2887/2887 [==============================] - 0s 134us/step - loss: nan - acc: 0.0000e+00\n",
      "Epoch 37/50\n",
      "2887/2887 [==============================] - 0s 133us/step - loss: nan - acc: 0.0000e+00\n",
      "Epoch 38/50\n",
      "2887/2887 [==============================] - 0s 131us/step - loss: nan - acc: 0.0000e+00\n",
      "Epoch 39/50\n",
      "2887/2887 [==============================] - 0s 135us/step - loss: nan - acc: 0.0000e+00\n",
      "Epoch 40/50\n",
      "2887/2887 [==============================] - 0s 134us/step - loss: nan - acc: 0.0000e+00\n",
      "Epoch 41/50\n",
      "2887/2887 [==============================] - 0s 134us/step - loss: nan - acc: 0.0000e+00\n",
      "Epoch 42/50\n",
      "2887/2887 [==============================] - 0s 134us/step - loss: nan - acc: 0.0000e+00\n",
      "Epoch 43/50\n",
      "2887/2887 [==============================] - 0s 134us/step - loss: nan - acc: 0.0000e+00\n",
      "Epoch 44/50\n",
      "2887/2887 [==============================] - ETA: 0s - loss: nan - acc: 0.0000e+ - 0s 135us/step - loss: nan - acc: 0.0000e+00\n",
      "Epoch 45/50\n",
      "2887/2887 [==============================] - 0s 133us/step - loss: nan - acc: 0.0000e+00\n",
      "Epoch 46/50\n",
      "2887/2887 [==============================] - 0s 143us/step - loss: nan - acc: 0.0000e+00\n",
      "Epoch 47/50\n",
      "2887/2887 [==============================] - 0s 139us/step - loss: nan - acc: 0.0000e+00\n",
      "Epoch 48/50\n",
      "2887/2887 [==============================] - 0s 136us/step - loss: nan - acc: 0.0000e+00\n",
      "Epoch 49/50\n",
      "2887/2887 [==============================] - 0s 130us/step - loss: nan - acc: 0.0000e+00\n",
      "Epoch 50/50\n",
      "2887/2887 [==============================] - 0s 133us/step - loss: nan - acc: 0.0000e+00\n"
     ]
    }
   ],
   "source": [
    "hisory = model.fit(x_train,y_train.values,epochs=50)"
   ]
  },
  {
   "cell_type": "code",
   "execution_count": 17,
   "metadata": {
    "scrolled": true
   },
   "outputs": [
    {
     "data": {
      "text/plain": [
       "[<matplotlib.lines.Line2D at 0x1d5ed308780>]"
      ]
     },
     "execution_count": 17,
     "metadata": {},
     "output_type": "execute_result"
    },
    {
     "data": {
      "image/png": "[encoded data removed]",
      "text/plain": [
       "<Figure size 432x288 with 1 Axes>"
      ]
     },
     "metadata": {},
     "output_type": "display_data"
    }
   ],
   "source": [
    "import matplotlib.pyplot as plt\n",
    "\n",
    "plt.plot(hisory.history['acc'])"
   ]
  },
  {
   "cell_type": "code",
   "execution_count": null,
   "metadata": {},
   "outputs": [],
   "source": []
  },
  {
   "cell_type": "code",
   "execution_count": 103,
   "metadata": {},
   "outputs": [
    {
     "name": "stdout",
     "output_type": "stream",
     "text": [
      "[[1.0000000e+00 0.0000000e+00 0.0000000e+00 0.0000000e+00 0.0000000e+00\n",
      "  0.0000000e+00]\n",
      " [7.2919917e-38 9.9806648e-01 1.9335405e-03 4.4425980e-24 2.2438369e-24\n",
      "  1.8697358e-35]\n",
      " [1.0000000e+00 0.0000000e+00 0.0000000e+00 0.0000000e+00 0.0000000e+00\n",
      "  0.0000000e+00]\n",
      " ...\n",
      " [3.6495511e-11 1.9113086e-05 1.6365635e-05 2.9644221e-01 6.0622233e-01\n",
      "  9.7300015e-02]\n",
      " [9.9555007e-04 2.4806405e-03 9.9652380e-01 1.2248438e-10 5.5419765e-08\n",
      "  1.6585279e-19]\n",
      " [3.8010562e-20 7.0083965e-12 7.2803515e-13 9.8035723e-02 1.8400098e-01\n",
      "  7.1796328e-01]]\n"
     ]
    }
   ],
   "source": [
    "res = model.predict(x_test)\n",
    "print(res)\n",
    "# np.savetxt(\"foo.csv\", res, delimiter=\",\")\n",
    "# from google.colab import files\n",
    "# files.download('foo.csv')"
   ]
  },
  {
   "cell_type": "code",
   "execution_count": 185,
   "metadata": {},
   "outputs": [
    {
     "data": {
      "text/plain": [
       "(722, 7)"
      ]
     },
     "execution_count": 185,
     "metadata": {},
     "output_type": "execute_result"
    }
   ],
   "source": [
    "res.shape"
   ]
  },
  {
   "cell_type": "code",
   "execution_count": 186,
   "metadata": {},
   "outputs": [
    {
     "name": "stdout",
     "output_type": "stream",
     "text": [
      "272\n"
     ]
    }
   ],
   "source": [
    "count=0\n",
    "for i in range(722):\n",
    "    if(np.array_equal(res[i],y_test[i])):\n",
    "        count+=1\n",
    "print(count)\n",
    "        "
   ]
  },
  {
   "cell_type": "code",
   "execution_count": null,
   "metadata": {},
   "outputs": [],
   "source": []
  },
  {
   "cell_type": "code",
   "execution_count": null,
   "metadata": {},
   "outputs": [],
   "source": []
  }
 ],
 "metadata": {
  "colab": {
   "collapsed_sections": [],
   "default_view": {},
   "name": "mobile_activity",
   "provenance": [],
   "version": "0.3.2",
   "views": {}
  },
  "kernelspec": {
   "display_name": "Python 3",
   "language": "python",
   "name": "python3"
  },
  "language_info": {
   "codemirror_mode": {
    "name": "ipython",
    "version": 3
   },
   "file_extension": ".py",
   "mimetype": "text/x-python",
   "name": "python",
   "nbconvert_exporter": "python",
   "pygments_lexer": "ipython3",
   "version": "3.5.5"
  }
 },
 "nbformat": 4,
 "nbformat_minor": 1
}
