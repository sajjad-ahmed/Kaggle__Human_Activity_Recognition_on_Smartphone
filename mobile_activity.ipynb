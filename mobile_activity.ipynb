{
  "nbformat": 4,
  "nbformat_minor": 0,
  "metadata": {
    "colab": {
      "name": "mobile_activity",
      "version": "0.3.2",
      "views": {},
      "default_view": {},
      "provenance": [],
      "collapsed_sections": []
    }
  },
  "cells": [
    {
      "metadata": {
        "id": "PFw5WThQOcK6",
        "colab_type": "text"
      },
      "cell_type": "markdown",
      "source": [
        "# Import Stuff"
      ]
    },
    {
      "metadata": {
        "id": "4pJxHnUcOWBo",
        "colab_type": "code",
        "colab": {
          "autoexec": {
            "startup": false,
            "wait_interval": 0
          },
          "base_uri": "https://localhost:8080/",
          "height": 34
        },
        "outputId": "7573f2db-c431-4c06-916f-fc78f221a525",
        "executionInfo": {
          "status": "ok",
          "timestamp": 1530713974755,
          "user_tz": -360,
          "elapsed": 2831,
          "user": {
            "displayName": "Sajjad Ahmed",
            "photoUrl": "//lh5.googleusercontent.com/-MPc9R3ISk2A/AAAAAAAAAAI/AAAAAAAAAxI/bbZwN51vStE/s50-c-k-no/photo.jpg",
            "userId": "101056805632633697478"
          }
        }
      },
      "cell_type": "code",
      "source": [
        "import tensorflow as tf\n",
        "import pandas as pd\n",
        "import numpy as np\n",
        "import matplotlib.pyplot as plt\n",
        "import matplotlib.image as mpimg\n",
        "import seaborn as sns\n",
        "%matplotlib inline\n",
        "\n",
        "np.random.seed(2)\n",
        "\n",
        "from sklearn.model_selection import train_test_split\n",
        "from sklearn.metrics import confusion_matrix\n",
        "import itertools\n",
        "\n",
        "from keras.utils.np_utils import to_categorical # convert to one-hot-encoding\n",
        "from keras.models import Sequential\n",
        "from keras.layers import Dense, Dropout, Flatten, Conv2D, MaxPool2D\n",
        "from keras.optimizers import RMSprop\n",
        "from keras.preprocessing.image import ImageDataGenerator\n",
        "from keras.callbacks import ReduceLROnPlateau\n",
        "\n",
        "\n",
        "sns.set(style='white', context='notebook', palette='deep')"
      ],
      "execution_count": 1,
      "outputs": [
        {
          "output_type": "stream",
          "text": [
            "Using TensorFlow backend.\n"
          ],
          "name": "stderr"
        }
      ]
    },
    {
      "metadata": {
        "id": "gQWTO29YO_Fm",
        "colab_type": "text"
      },
      "cell_type": "markdown",
      "source": [
        "# Import file\n",
        "Import train and test from google drive"
      ]
    },
    {
      "metadata": {
        "id": "kRLxfXw7O060",
        "colab_type": "code",
        "colab": {
          "autoexec": {
            "startup": false,
            "wait_interval": 0
          },
          "base_uri": "https://localhost:8080/",
          "height": 187
        },
        "outputId": "7381ba0f-3817-47ff-d003-8e1fe16e5eb6",
        "executionInfo": {
          "status": "ok",
          "timestamp": 1530714027560,
          "user_tz": -360,
          "elapsed": 3031,
          "user": {
            "displayName": "Sajjad Ahmed",
            "photoUrl": "//lh5.googleusercontent.com/-MPc9R3ISk2A/AAAAAAAAAAI/AAAAAAAAAxI/bbZwN51vStE/s50-c-k-no/photo.jpg",
            "userId": "101056805632633697478"
          }
        }
      },
      "cell_type": "code",
      "source": [
        "# Install the PyDrive wrapper & import libraries.\n",
        "# This only needs to be done once per notebook.\n",
        "!pip install -U -q PyDrive\n",
        "from pydrive.auth import GoogleAuth\n",
        "from pydrive.drive import GoogleDrive\n",
        "from google.colab import auth\n",
        "from oauth2client.client import GoogleCredentials\n",
        "\n",
        "# Authenticate and create the PyDrive client.\n",
        "# This only needs to be done once per notebook.\n",
        "auth.authenticate_user()\n",
        "gauth = GoogleAuth()\n",
        "gauth.credentials = GoogleCredentials.get_application_default()\n",
        "drive = GoogleDrive(gauth)\n",
        "\n",
        "# Download a file based on its file ID.\n",
        "#\n",
        "# Train\n",
        "file_id_1 = '1FmrnljNFO3qi0CsD-HYqoGLkpT7z7IgZ'\n",
        "downloaded_train = drive.CreateFile({'id': file_id_1})\n",
        "print('Downloaded content \"{}\"'.format(downloaded_train.GetContentString()))\n",
        "train_str=downloaded_train.GetContentString()\n",
        "\n",
        "# TEST\n",
        "file_id_2 = '1jJUpk4dNWiLtOGZx0HAb4PYPmRk5WEk3'\n",
        "downloaded_test = drive.CreateFile({'id': file_id_2})\n",
        "print('Downloaded content \"{}\"'.format(downloaded_test.GetContentString()))\n",
        "test_str=downloaded_test.GetContentString()\n",
        "\n",
        "#Free memory\n",
        "del file_id_1\n",
        "del downloaded_train\n",
        "del downloaded_test\n",
        "del file_id_2\n",
        "\n",
        "#key:     4/AADxFhUOuyI-6S5pcr3acvN5qYvVkwP0JwtDWEIvIfs9fdOTLHHCORw"
      ],
      "execution_count": 2,
      "outputs": [
        {
          "output_type": "stream",
          "text": [
            "IOPub data rate exceeded.\n",
            "The notebook server will temporarily stop sending output\n",
            "to the client in order to avoid crashing it.\n",
            "To change this limit, set the config variable\n",
            "`--NotebookApp.iopub_data_rate_limit`.\n",
            "\n",
            "Current values:\n",
            "NotebookApp.iopub_data_rate_limit=1000000.0 (bytes/sec)\n",
            "NotebookApp.rate_limit_window=3.0 (secs)\n",
            "\n"
          ],
          "name": "stderr"
        }
      ]
    },
    {
      "metadata": {
        "id": "JYsDNCaCQZbB",
        "colab_type": "text"
      },
      "cell_type": "markdown",
      "source": [
        "# Convert Train and Test to PD DATAFRAME"
      ]
    },
    {
      "metadata": {
        "id": "y6p1qh0eOvvC",
        "colab_type": "code",
        "colab": {
          "autoexec": {
            "startup": false,
            "wait_interval": 0
          },
          "base_uri": "https://localhost:8080/",
          "height": 51
        },
        "outputId": "4300fbb7-53a6-4186-a1b0-ef9bd18af0a5",
        "executionInfo": {
          "status": "ok",
          "timestamp": 1530714048101,
          "user_tz": -360,
          "elapsed": 1225,
          "user": {
            "displayName": "Sajjad Ahmed",
            "photoUrl": "//lh5.googleusercontent.com/-MPc9R3ISk2A/AAAAAAAAAAI/AAAAAAAAAxI/bbZwN51vStE/s50-c-k-no/photo.jpg",
            "userId": "101056805632633697478"
          }
        }
      },
      "cell_type": "code",
      "source": [
        "from io import StringIO\n",
        "TRAINDATA = StringIO(train_str)\n",
        "df_train = pd.read_csv(TRAINDATA, sep=\",\")\n",
        "\n",
        "TESTDATA = StringIO(test_str)\n",
        "df_test = pd.read_csv(TESTDATA, sep=\",\")\n",
        "\n",
        "print(df_train.shape)\n",
        "print(df_test.shape)\n",
        "\n",
        "#free memory\n",
        "del TRAINDATA\n",
        "del train_str\n",
        "del TESTDATA\n",
        "del test_str"
      ],
      "execution_count": 3,
      "outputs": [
        {
          "output_type": "stream",
          "text": [
            "(3609, 563)\n",
            "(1541, 562)\n"
          ],
          "name": "stdout"
        }
      ]
    },
    {
      "metadata": {
        "id": "RuPSt-TTQ6fd",
        "colab_type": "code",
        "colab": {
          "autoexec": {
            "startup": false,
            "wait_interval": 0
          }
        }
      },
      "cell_type": "code",
      "source": [
        "x_train=df_train.drop('activity',axis=1)\n",
        "y_train=df_train['activity']"
      ],
      "execution_count": 0,
      "outputs": []
    },
    {
      "metadata": {
        "id": "5Yx_HHLxQ-2v",
        "colab_type": "text"
      },
      "cell_type": "markdown",
      "source": [
        ""
      ]
    },
    {
      "metadata": {
        "id": "XjNldGeLs7yi",
        "colab_type": "code",
        "colab": {
          "autoexec": {
            "startup": false,
            "wait_interval": 0
          }
        }
      },
      "cell_type": "code",
      "source": [
        "x_train,x_test, y_train, y_test=train_test_split(x_train,y_train,test_size=.2)\n"
      ],
      "execution_count": 0,
      "outputs": []
    },
    {
      "metadata": {
        "id": "XgQh1n1BtT1i",
        "colab_type": "code",
        "colab": {
          "autoexec": {
            "startup": false,
            "wait_interval": 0
          },
          "base_uri": "https://localhost:8080/",
          "height": 85
        },
        "outputId": "7555baf5-a57b-43c6-9ee2-1b3c8cc52497",
        "executionInfo": {
          "status": "ok",
          "timestamp": 1530715040310,
          "user_tz": -360,
          "elapsed": 1059,
          "user": {
            "displayName": "Sajjad Ahmed",
            "photoUrl": "//lh5.googleusercontent.com/-MPc9R3ISk2A/AAAAAAAAAAI/AAAAAAAAAxI/bbZwN51vStE/s50-c-k-no/photo.jpg",
            "userId": "101056805632633697478"
          }
        }
      },
      "cell_type": "code",
      "source": [
        "print(x_train.shape)\n",
        "print(y_train.shape)\n",
        "print(x_test.shape)\n",
        "print(y_test.shape)"
      ],
      "execution_count": 29,
      "outputs": [
        {
          "output_type": "stream",
          "text": [
            "(2887, 562)\n",
            "(2887,)\n",
            "(722, 562)\n",
            "(722,)\n"
          ],
          "name": "stdout"
        }
      ]
    },
    {
      "metadata": {
        "id": "_Z5DqlL8rR7F",
        "colab_type": "code",
        "colab": {
          "autoexec": {
            "startup": false,
            "wait_interval": 0
          }
        }
      },
      "cell_type": "code",
      "source": [
        "\n",
        "from sklearn import svm\n",
        "\n",
        "clf=svm.SVC(C=500,kernel=\"linear\")\n",
        "clf.fit(x_train,y_train)"
      ],
      "execution_count": 0,
      "outputs": []
    },
    {
      "metadata": {
        "id": "49XJZPtNrT14",
        "colab_type": "code",
        "colab": {
          "autoexec": {
            "startup": false,
            "wait_interval": 0
          }
        }
      },
      "cell_type": "code",
      "source": [
        "pred=clf.predict(x_test)"
      ],
      "execution_count": 0,
      "outputs": []
    },
    {
      "metadata": {
        "id": "KMQsvcQbulez",
        "colab_type": "code",
        "colab": {
          "autoexec": {
            "startup": false,
            "wait_interval": 0
          },
          "base_uri": "https://localhost:8080/",
          "height": 51
        },
        "outputId": "223d343e-6cdd-4211-fc4a-f52d89b723af",
        "executionInfo": {
          "status": "ok",
          "timestamp": 1530715827983,
          "user_tz": -360,
          "elapsed": 811,
          "user": {
            "displayName": "Sajjad Ahmed",
            "photoUrl": "//lh5.googleusercontent.com/-MPc9R3ISk2A/AAAAAAAAAAI/AAAAAAAAAxI/bbZwN51vStE/s50-c-k-no/photo.jpg",
            "userId": "101056805632633697478"
          }
        }
      },
      "cell_type": "code",
      "source": [
        "print(pred.shape)\n",
        "print(y_test.shape)"
      ],
      "execution_count": 48,
      "outputs": [
        {
          "output_type": "stream",
          "text": [
            "(722,)\n",
            "(722,)\n"
          ],
          "name": "stdout"
        }
      ]
    },
    {
      "metadata": {
        "id": "knLrTTdGsCbv",
        "colab_type": "code",
        "colab": {
          "autoexec": {
            "startup": false,
            "wait_interval": 0
          },
          "base_uri": "https://localhost:8080/",
          "height": 34
        },
        "outputId": "ffff1a96-49f7-428e-ef91-057e8721e8be",
        "executionInfo": {
          "status": "ok",
          "timestamp": 1530715829722,
          "user_tz": -360,
          "elapsed": 1047,
          "user": {
            "displayName": "Sajjad Ahmed",
            "photoUrl": "//lh5.googleusercontent.com/-MPc9R3ISk2A/AAAAAAAAAAI/AAAAAAAAAxI/bbZwN51vStE/s50-c-k-no/photo.jpg",
            "userId": "101056805632633697478"
          }
        }
      },
      "cell_type": "code",
      "source": [
        "from sklearn.metrics import accuracy_score\n",
        "print(accuracy_score(y_test, pred))"
      ],
      "execution_count": 49,
      "outputs": [
        {
          "output_type": "stream",
          "text": [
            "0.9722991689750693\n"
          ],
          "name": "stdout"
        }
      ]
    },
    {
      "metadata": {
        "id": "1MNuJ30dsEOH",
        "colab_type": "code",
        "colab": {
          "autoexec": {
            "startup": false,
            "wait_interval": 0
          }
        }
      },
      "cell_type": "code",
      "source": [
        ""
      ],
      "execution_count": 0,
      "outputs": []
    }
  ]
}